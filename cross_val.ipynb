{
 "cells": [
  {
   "cell_type": "code",
   "execution_count": 5,
   "id": "a305687e-ed53-466c-9608-c0835122eee2",
   "metadata": {},
   "outputs": [],
   "source": [
    "import numpy as np\n",
    "from sklearn.model_selection import cross_val_score\n",
    "from sklearn.tree import DecisionTreeClassifier\n",
    "from sklearn import datasets"
   ]
  },
  {
   "cell_type": "code",
   "execution_count": 6,
   "id": "53e1c6ec-ad62-4491-8ee1-50149bb4150c",
   "metadata": {},
   "outputs": [],
   "source": [
    "data = datasets.load_breast_cancer()"
   ]
  },
  {
   "cell_type": "code",
   "execution_count": 12,
   "id": "8ff8c2f8-2034-446a-aa74-2eeaf104ce98",
   "metadata": {},
   "outputs": [],
   "source": [
    "X= data.data\n",
    "y=data.target\n",
    "\n",
    "model = DecisionTreeClassifier()"
   ]
  },
  {
   "cell_type": "code",
   "execution_count": 13,
   "id": "5dcd480a-1d21-4085-a425-c43a78bd3d48",
   "metadata": {},
   "outputs": [],
   "source": [
    "mycv = cross_val_score(model,X,y,cv=5)"
   ]
  },
  {
   "cell_type": "code",
   "execution_count": 14,
   "id": "40a193de-d189-4d9c-abfb-5df2cc6f532e",
   "metadata": {},
   "outputs": [
    {
     "data": {
      "text/plain": [
       "array([0.90350877, 0.90350877, 0.90350877, 0.95614035, 0.90265487])"
      ]
     },
     "execution_count": 14,
     "metadata": {},
     "output_type": "execute_result"
    }
   ],
   "source": [
    "mycv"
   ]
  },
  {
   "cell_type": "code",
   "execution_count": 19,
   "id": "1d362085-60a3-4974-81e4-9211ac81161a",
   "metadata": {},
   "outputs": [
    {
     "name": "stdout",
     "output_type": "stream",
     "text": [
      "0.9138643067846608\n"
     ]
    }
   ],
   "source": [
    "print(mycv.mean())"
   ]
  },
  {
   "cell_type": "code",
   "execution_count": null,
   "id": "8cbcc2ac-f55b-413c-aa10-cfd0a52f6598",
   "metadata": {},
   "outputs": [],
   "source": []
  }
 ],
 "metadata": {
  "kernelspec": {
   "display_name": "Python 3 (ipykernel)",
   "language": "python",
   "name": "python3"
  },
  "language_info": {
   "codemirror_mode": {
    "name": "ipython",
    "version": 3
   },
   "file_extension": ".py",
   "mimetype": "text/x-python",
   "name": "python",
   "nbconvert_exporter": "python",
   "pygments_lexer": "ipython3",
   "version": "3.11.5"
  }
 },
 "nbformat": 4,
 "nbformat_minor": 5
}
